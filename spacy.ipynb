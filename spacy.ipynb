{
 "cells": [
  {
   "cell_type": "code",
   "execution_count": 4,
   "metadata": {},
   "outputs": [
    {
     "data": {
      "text/plain": [
       "I like London"
      ]
     },
     "execution_count": 4,
     "metadata": {},
     "output_type": "execute_result"
    }
   ],
   "source": [
    "# import sys\n",
    "# !{sys.executable} -m pip install spacy\n",
    "# !{sys.executable} -m spacy download en_core_web_sm\n",
    "# You might need to restart JupyterLab for the installation to take effect.\n",
    "\n",
    "from spacy.gold import docs_to_json\n",
    "import spacy\n",
    "\n",
    "nlp = spacy.load('en_core_web_sm')\n",
    "doc = nlp(\"I like London\")\n",
    "doc"
   ]
  },
  {
   "cell_type": "code",
   "execution_count": 3,
   "metadata": {},
   "outputs": [
    {
     "data": {
      "text/plain": [
       "{'id': 0,\n",
       " 'paragraphs': [{'raw': 'I like London',\n",
       "   'sentences': [{'tokens': [{'id': 0,\n",
       "       'orth': 'I',\n",
       "       'tag': 'PRP',\n",
       "       'head': 1,\n",
       "       'dep': 'nsubj',\n",
       "       'ner': 'O'},\n",
       "      {'id': 1,\n",
       "       'orth': 'like',\n",
       "       'tag': 'VBP',\n",
       "       'head': 0,\n",
       "       'dep': 'ROOT',\n",
       "       'ner': 'O'},\n",
       "      {'id': 2,\n",
       "       'orth': 'London',\n",
       "       'tag': 'NNP',\n",
       "       'head': -1,\n",
       "       'dep': 'pobj',\n",
       "       'ner': 'U-GPE'}],\n",
       "     'brackets': []}],\n",
       "   'cats': []}]}"
      ]
     },
     "execution_count": 3,
     "metadata": {},
     "output_type": "execute_result"
    }
   ],
   "source": [
    "json_data = docs_to_json([doc])\n",
    "json_data"
   ]
  },
  {
   "cell_type": "code",
   "execution_count": null,
   "metadata": {},
   "outputs": [],
   "source": []
  }
 ],
 "metadata": {
  "kernelspec": {
   "display_name": "Python 3",
   "language": "python",
   "name": "python3"
  },
  "language_info": {
   "codemirror_mode": {
    "name": "ipython",
    "version": 3
   },
   "file_extension": ".py",
   "mimetype": "text/x-python",
   "name": "python",
   "nbconvert_exporter": "python",
   "pygments_lexer": "ipython3",
   "version": "3.8.5"
  }
 },
 "nbformat": 4,
 "nbformat_minor": 4
}
