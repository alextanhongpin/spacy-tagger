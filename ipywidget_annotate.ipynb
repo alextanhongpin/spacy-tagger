{
 "cells": [
  {
   "cell_type": "code",
   "execution_count": 1,
   "metadata": {},
   "outputs": [],
   "source": [
    "# !pip3 install ipywidgets\n",
    "# !jupyter nbextension enable --py widgetsnbextension\n",
    "# !jupyter lab clean\n",
    "# !jupyter labextension install @jupyter-widgets/jupyterlab-manager"
   ]
  },
  {
   "cell_type": "code",
   "execution_count": 185,
   "metadata": {},
   "outputs": [],
   "source": [
    "from __future__ import print_function\n",
    "from ipywidgets import interact, interactive, fixed, interact_manual\n",
    "import ipywidgets as widgets\n",
    "from IPython.display import display, HTML\n",
    "\n",
    "import re\n",
    "from dataclasses import dataclass\n",
    "from typing import List"
   ]
  },
  {
   "cell_type": "code",
   "execution_count": 186,
   "metadata": {},
   "outputs": [],
   "source": [
    "@dataclass\n",
    "class Annotation:\n",
    "    text: str\n",
    "    start: int\n",
    "    end: int\n",
    "        \n",
    "@dataclass\n",
    "class Sentence:\n",
    "    text: str\n",
    "    annotations: List[Annotation]"
   ]
  },
  {
   "cell_type": "code",
   "execution_count": 187,
   "metadata": {},
   "outputs": [],
   "source": [
    "def f(x):\n",
    "    return x\n",
    "\n",
    "output = widgets.Output()\n",
    "with output:\n",
    "    interact(f, x=10)"
   ]
  },
  {
   "cell_type": "code",
   "execution_count": 198,
   "metadata": {},
   "outputs": [],
   "source": [
    "sentences = ['react is good', 'vue is good too', 'I love React and Vue']\n",
    "tag = 'SKILL'\n",
    "keywords = ['react', 'vue']\n",
    "result: List[Sentence] = []\n",
    "current_sentence = None\n",
    "\n",
    "# For adding new keyword.\n",
    "keyword = ''\n",
    "\n",
    "output = [None] * len(sentences)\n",
    "idx = -1\n",
    "\n",
    "def to_next():\n",
    "    global idx\n",
    "    if idx >= len(sentences) - 1:\n",
    "        return\n",
    "    idx = idx + 1\n",
    "\n",
    "def to_prev():\n",
    "    global idx\n",
    "    if idx <= 0:\n",
    "        return\n",
    "    idx = idx - 1\n",
    "    \n",
    "def reset():\n",
    "    global idx\n",
    "    global result\n",
    "    result = []\n",
    "    idx = -1\n",
    "\n",
    "def is_end():\n",
    "    global idx\n",
    "    return idx == len(sentences) - 1\n",
    "\n",
    "def accept():\n",
    "    global current_sentence\n",
    "    if current_sentence:\n",
    "        result.append(current_sentence)\n",
    "    current_sentence = None\n",
    "    to_next()\n",
    "\n",
    "def reject():\n",
    "    pass\n",
    "\n",
    "def preprocess(sentence):\n",
    "    global keywords\n",
    "    global current_sentence\n",
    "    pattern = '|'.join(keywords)\n",
    "    annotations: List[Annotation] = []\n",
    "        \n",
    "    for m in re.finditer(pattern, sentence, flags=re.IGNORECASE|re.MULTILINE|re.UNICODE):\n",
    "        s, e = m.span()\n",
    "        annotations.append(Annotation(sentence[s:e], s, e))\n",
    "    current_sentence = Sentence(sentence, annotations)\n",
    "    return current_sentence"
   ]
  },
  {
   "cell_type": "code",
   "execution_count": 199,
   "metadata": {},
   "outputs": [
    {
     "data": {
      "application/vnd.jupyter.widget-view+json": {
       "model_id": "6247742f320041beafa69066bcb524f2",
       "version_major": 2,
       "version_minor": 0
      },
      "text/plain": [
       "Button(description='Prev', style=ButtonStyle())"
      ]
     },
     "metadata": {},
     "output_type": "display_data"
    },
    {
     "data": {
      "application/vnd.jupyter.widget-view+json": {
       "model_id": "594943b877024d24ac40d7ca53d28b6f",
       "version_major": 2,
       "version_minor": 0
      },
      "text/plain": [
       "Button(description='Next', style=ButtonStyle())"
      ]
     },
     "metadata": {},
     "output_type": "display_data"
    },
    {
     "data": {
      "application/vnd.jupyter.widget-view+json": {
       "model_id": "1d71ed16c6be40a990265acb7898b294",
       "version_major": 2,
       "version_minor": 0
      },
      "text/plain": [
       "Button(description='Reset', style=ButtonStyle())"
      ]
     },
     "metadata": {},
     "output_type": "display_data"
    },
    {
     "data": {
      "application/vnd.jupyter.widget-view+json": {
       "model_id": "ff8cac6f6eaa42a0a5662ceeff4ac12e",
       "version_major": 2,
       "version_minor": 0
      },
      "text/plain": [
       "Button(description='Add', style=ButtonStyle())"
      ]
     },
     "metadata": {},
     "output_type": "display_data"
    },
    {
     "data": {
      "application/vnd.jupyter.widget-view+json": {
       "model_id": "8da292d5b8ae4e2596c5d126eae561d5",
       "version_major": 2,
       "version_minor": 0
      },
      "text/plain": [
       "HTML(value='', placeholder='Enter html')"
      ]
     },
     "metadata": {},
     "output_type": "display_data"
    },
    {
     "data": {
      "application/vnd.jupyter.widget-view+json": {
       "model_id": "2981bb4de3dc4e07bc56c4498478de39",
       "version_major": 2,
       "version_minor": 0
      },
      "text/plain": [
       "interactive(children=(Text(value='', description='new_keyword'), Output()), _dom_classes=('widget-interact',))"
      ]
     },
     "metadata": {},
     "output_type": "display_data"
    },
    {
     "data": {
      "text/plain": [
       "<function __main__.update_keywords(new_keyword)>"
      ]
     },
     "execution_count": 199,
     "metadata": {},
     "output_type": "execute_result"
    }
   ],
   "source": [
    "button_prev = widgets.Button(description=\"Prev\")\n",
    "button_next = widgets.Button(description=\"Next\")\n",
    "button_reset = widgets.Button(description='Reset')\n",
    "button_add = widgets.Button(description='Add')\n",
    "\n",
    "def handle_prev(e):\n",
    "    global idx\n",
    "    to_prev()\n",
    "    render()\n",
    "\n",
    "def handle_next(e):\n",
    "    accept()\n",
    "    render()\n",
    "\n",
    "def handle_reset(e):\n",
    "    reset()\n",
    "    render()\n",
    "    \n",
    "def handle_add(e):\n",
    "    global keywords\n",
    "    global keyword\n",
    "    if keyword == \"\": \n",
    "        return\n",
    "    if keyword in keywords:\n",
    "        keywords.remove(keyword)\n",
    "    else:\n",
    "        keywords.append(keyword)\n",
    "    keyword = ''\n",
    "    render()\n",
    "\n",
    "button_prev.on_click(handle_prev)\n",
    "button_next.on_click(handle_next)\n",
    "button_reset.on_click(handle_reset)\n",
    "button_add.on_click(handle_add)\n",
    "\n",
    "html = widgets.HTML(value='', placeholder='Enter html', description='')\n",
    "\n",
    "display(button_prev, \n",
    "        button_next, \n",
    "        button_reset, \n",
    "        button_add, html)\n",
    "\n",
    "def render():\n",
    "    global idx\n",
    "    global keywords\n",
    "    if idx < 0:\n",
    "        html.value = \"Press next to start\"\n",
    "        return\n",
    "    result = preprocess(sentences[idx])\n",
    "    sentence = sentences[idx]\n",
    "    for annotation in result.annotations:\n",
    "        sentence = sentence.replace(annotation.text, f'<b style=\"background: #FFFBCC\">{annotation.text}</b>', 1)\n",
    "    \n",
    "    html.value = f\"Total: {len(sentences)}, Current: {idx+1}\"\n",
    "    html.value += '<br/>'\n",
    "    html.value += \"Keywords: \" + \"|\".join(keywords)\n",
    "    html.value += '<br/>'\n",
    "    html.value += f'{idx+1}. {sentence}'\n",
    "    html.value += '<br/>'\n",
    "    html.value += str(result)\n",
    "        \n",
    "def update_keywords(new_keyword):\n",
    "    global keyword\n",
    "    keyword = new_keyword\n",
    "    \n",
    "interact(update_keywords, new_keyword=keyword)"
   ]
  },
  {
   "cell_type": "code",
   "execution_count": 204,
   "metadata": {},
   "outputs": [
    {
     "name": "stdout",
     "output_type": "stream",
     "text": [
      "Sentence(text='react is good', annotations=[Annotation(text='react', start=0, end=5)])\n",
      "\n",
      "Sentence(text='vue is good too', annotations=[Annotation(text='vue', start=0, end=3)])\n",
      "\n",
      "Sentence(text='I love React and Vue', annotations=[Annotation(text='React', start=7, end=12), Annotation(text='Vue', start=17, end=20)])\n",
      "\n"
     ]
    }
   ],
   "source": [
    "for sent in result:\n",
    "    print(sent)\n",
    "    print()"
   ]
  },
  {
   "cell_type": "code",
   "execution_count": null,
   "metadata": {},
   "outputs": [],
   "source": []
  }
 ],
 "metadata": {
  "kernelspec": {
   "display_name": "Python 3",
   "language": "python",
   "name": "python3"
  },
  "language_info": {
   "codemirror_mode": {
    "name": "ipython",
    "version": 3
   },
   "file_extension": ".py",
   "mimetype": "text/x-python",
   "name": "python",
   "nbconvert_exporter": "python",
   "pygments_lexer": "ipython3",
   "version": "3.8.5"
  }
 },
 "nbformat": 4,
 "nbformat_minor": 4
}
