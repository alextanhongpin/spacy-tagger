{
 "cells": [
  {
   "cell_type": "code",
   "execution_count": null,
   "metadata": {},
   "outputs": [],
   "source": [
    "# !pip3 install ipywidgets\n",
    "# !jupyter nbextension enable --py widgetsnbextension\n",
    "# !jupyter lab clean\n",
    "# !jupyter labextension install @jupyter-widgets/jupyterlab-manager"
   ]
  },
  {
   "cell_type": "code",
   "execution_count": 1,
   "metadata": {},
   "outputs": [],
   "source": [
    "from __future__ import print_function\n",
    "from ipywidgets import interact, Box, HBox, VBox\n",
    "import ipywidgets as widgets\n",
    "from IPython.display import display\n",
    "\n",
    "import re\n",
    "from dataclasses import dataclass\n",
    "from typing import List"
   ]
  },
  {
   "cell_type": "markdown",
   "metadata": {},
   "source": [
    "## Debounce\n",
    "\n",
    "Decorator to debounce. E.g. `@debounce(0.25)`\n",
    "\n",
    "References:\n",
    "- https://ipywidgets.readthedocs.io/en/latest/examples/Widget%20Events.html?highlight=throttle#Debouncing"
   ]
  },
  {
   "cell_type": "code",
   "execution_count": 2,
   "metadata": {},
   "outputs": [],
   "source": [
    "import asyncio\n",
    "\n",
    "class Timer:\n",
    "    def __init__(self, timeout, callback):\n",
    "        self._timeout = timeout\n",
    "        self._callback = callback\n",
    "        self._task = asyncio.ensure_future(self._job())\n",
    "\n",
    "    async def _job(self):\n",
    "        await asyncio.sleep(self._timeout)\n",
    "        self._callback()\n",
    "\n",
    "    def cancel(self):\n",
    "        self._task.cancel()\n",
    "\n",
    "def debounce(wait):\n",
    "    \"\"\" Decorator that will postpone a function's\n",
    "        execution until after `wait` seconds\n",
    "        have elapsed since the last time it was invoked. \"\"\"\n",
    "    def decorator(fn):\n",
    "        timer = None\n",
    "        def debounced(*args, **kwargs):\n",
    "            nonlocal timer\n",
    "            def call_it():\n",
    "                fn(*args, **kwargs)\n",
    "            if timer is not None:\n",
    "                timer.cancel()\n",
    "            timer = Timer(wait, call_it)\n",
    "        return debounced\n",
    "    return decorator"
   ]
  },
  {
   "cell_type": "code",
   "execution_count": 3,
   "metadata": {},
   "outputs": [],
   "source": [
    "@dataclass\n",
    "class Annotation:\n",
    "    text: str\n",
    "    start: int\n",
    "    end: int\n",
    "        \n",
    "@dataclass\n",
    "class Sentence:\n",
    "    text: str\n",
    "    annotations: List[Annotation]"
   ]
  },
  {
   "cell_type": "code",
   "execution_count": 4,
   "metadata": {},
   "outputs": [],
   "source": [
    "def f(x):\n",
    "    return x\n",
    "\n",
    "output = widgets.Output()\n",
    "with output:\n",
    "    interact(f, x=10)"
   ]
  },
  {
   "cell_type": "code",
   "execution_count": 18,
   "metadata": {},
   "outputs": [
    {
     "name": "stdout",
     "output_type": "stream",
     "text": [
      "Requirement already satisfied: BeautifulSoup4 in /Users/alextanhongpin/.local/share/virtualenvs/natural_language_processing_with_python_co-tJ8vfo8Q/lib/python3.8/site-packages (4.9.1)\n",
      "Requirement already satisfied: soupsieve>1.2 in /Users/alextanhongpin/.local/share/virtualenvs/natural_language_processing_with_python_co-tJ8vfo8Q/lib/python3.8/site-packages (from BeautifulSoup4) (2.0.1)\n"
     ]
    }
   ],
   "source": [
    "# Install a pip package in the current Jupyter kernel\n",
    "import sys\n",
    "!{sys.executable} -m pip install BeautifulSoup4"
   ]
  },
  {
   "cell_type": "code",
   "execution_count": 19,
   "metadata": {},
   "outputs": [],
   "source": [
    "url = 'https://www.fullstackacademy.com/blog/nine-best-programming-languages-to-learn'"
   ]
  },
  {
   "cell_type": "code",
   "execution_count": 6,
   "metadata": {},
   "outputs": [],
   "source": [
    "import nltk\n",
    "import requests\n",
    "from collections import Counter\n",
    "from bs4 import BeautifulSoup\n",
    "\n",
    "page = requests.get(url)\n",
    "# Deal with weird characters.\n",
    "page.encoding = page.apparent_encoding\n",
    "if page.status_code != 200:\n",
    "    raise Exception(\"unable to fetch page\")"
   ]
  },
  {
   "cell_type": "code",
   "execution_count": 7,
   "metadata": {},
   "outputs": [
    {
     "data": {
      "text/plain": [
       "13568"
      ]
     },
     "execution_count": 7,
     "metadata": {},
     "output_type": "execute_result"
    }
   ],
   "source": [
    "soup = BeautifulSoup(page.text, 'html.parser')\n",
    "text = soup.get_text()\n",
    "len(text)"
   ]
  },
  {
   "cell_type": "code",
   "execution_count": 45,
   "metadata": {},
   "outputs": [
    {
     "data": {
      "text/plain": [
       "[('language', 28),\n",
       " ('programming', 25),\n",
       " ('development', 19),\n",
       " ('languages', 13),\n",
       " ('fullstack', 13),\n",
       " ('web', 12),\n",
       " ('javascript', 11),\n",
       " ('learn', 10),\n",
       " ('rust', 10),\n",
       " ('python', 9)]"
      ]
     },
     "execution_count": 45,
     "metadata": {},
     "output_type": "execute_result"
    }
   ],
   "source": [
    "tokens = [word for sent in nltk.sent_tokenize(text.lower()) \n",
    "             for word in nltk.word_tokenize(sent)]\n",
    "stopwords = set(nltk.corpus.stopwords.words('english'))\n",
    "tokens = [token for token in tokens if token not in stopwords and len(token) > 1]\n",
    "tokens = Counter(tokens)\n",
    "tokens.most_common(10)"
   ]
  },
  {
   "cell_type": "code",
   "execution_count": 46,
   "metadata": {},
   "outputs": [],
   "source": [
    "def clear_newlines_and_whitespaces(s):\n",
    "    return re.sub(r'\\s+', ' ', s).strip()"
   ]
  },
  {
   "cell_type": "code",
   "execution_count": 48,
   "metadata": {},
   "outputs": [
    {
     "data": {
      "text/plain": [
       "(89,\n",
       " 'The 9 Best Programming Languages to Learn in 2020 | Fullstack Academy Programs New York Full-time Coding Bootcamp Part-time Flex Coding Bootcamp Grace Hopper Program Web Development Fellowship (WDF) Cybersecurity Bootcamp Chicago Full-time Coding Bootcamp Part-time Flex Coding Bootcamp Grace Hopper Program Online Online Coding Bootcamp Tuition & Dates Summer of Code Campus New York Chicago Online Admissions Prep Intro to Coding Bootcamp Prep Course Admissions Prep Workshop More Events Why Fullstack Student Stories Reviews Hiring Outcomes Job Search Help Curriculum Financing Admissions FAQs About Careers Blog Press Partners For Universities For Employers Apply Closing Soon!')"
      ]
     },
     "execution_count": 48,
     "metadata": {},
     "output_type": "execute_result"
    }
   ],
   "source": [
    "sentences = nltk.sent_tokenize(text)\n",
    "sentences = list(map(clear_newlines_and_whitespaces, sentences))\n",
    "len(sentences), sentences[0]"
   ]
  },
  {
   "cell_type": "code",
   "execution_count": 49,
   "metadata": {},
   "outputs": [],
   "source": [
    "keywords = dict(tokens.most_common(10)).keys()"
   ]
  },
  {
   "cell_type": "code",
   "execution_count": 50,
   "metadata": {},
   "outputs": [],
   "source": [
    "tag = 'SKILL'\n",
    "result: List[Sentence] = [None] * len(sentences)\n",
    "idx = -1\n",
    "\n",
    "def to_next():\n",
    "    global idx\n",
    "    if idx >= len(sentences) - 1:\n",
    "        return\n",
    "    idx = idx + 1\n",
    "\n",
    "def to_prev():\n",
    "    global idx\n",
    "    if idx <= 0:\n",
    "        return\n",
    "    idx = idx - 1\n",
    "    \n",
    "def reset():\n",
    "    global idx\n",
    "    global result\n",
    "    result = [None] * len(sentences)\n",
    "    idx = -1\n",
    "\n",
    "def reject():\n",
    "    pass\n",
    "\n",
    "def preprocess(sentence):\n",
    "    global keywords\n",
    "    global result\n",
    "    \n",
    "    # Create raw regex string to match the boundary, so that searching for \"go\" won't match \"going\".\n",
    "    pattern = r'\\b{}\\b'.format('|'.join(keywords))\n",
    "    annotations: List[Annotation] = []\n",
    "        \n",
    "    for m in re.finditer(pattern, sentence, flags=re.IGNORECASE|re.MULTILINE|re.UNICODE):\n",
    "        s, e = m.span()\n",
    "        annotations.append(Annotation(sentence[s:e], s, e))\n",
    "    \n",
    "    display(idx)\n",
    "    result[idx] = Sentence(sentence, annotations)\n",
    "    \n",
    "def update_keywords(new_kw):\n",
    "    global keywords\n",
    "    tags = new_kw.split(',')\n",
    "    tags = map(lambda s: s.strip(), tags)\n",
    "    tags = filter(lambda s: len(s) > 0, tags)\n",
    "    tags = list(set(list(tags)))\n",
    "    keywords = tags"
   ]
  },
  {
   "cell_type": "code",
   "execution_count": 51,
   "metadata": {},
   "outputs": [
    {
     "data": {
      "application/vnd.jupyter.widget-view+json": {
       "model_id": "3e96f78e1da64cf8806af282492143c4",
       "version_major": 2,
       "version_minor": 0
      },
      "text/plain": [
       "interactive(children=(Text(value='language,programming,development,languages,fullstack,web,javascript,learn,ru…"
      ]
     },
     "metadata": {},
     "output_type": "display_data"
    },
    {
     "data": {
      "application/vnd.jupyter.widget-view+json": {
       "model_id": "20d07594c4f143c69fca9b777aa2b2cb",
       "version_major": 2,
       "version_minor": 0
      },
      "text/plain": [
       "HBox(children=(Button(description='Prev', style=ButtonStyle()), Button(description='Next', style=ButtonStyle()…"
      ]
     },
     "metadata": {},
     "output_type": "display_data"
    },
    {
     "data": {
      "application/vnd.jupyter.widget-view+json": {
       "model_id": "e1e1ed1677f645ba880c477fc5c33c19",
       "version_major": 2,
       "version_minor": 0
      },
      "text/plain": [
       "HTML(value='', placeholder='Enter html')"
      ]
     },
     "metadata": {},
     "output_type": "display_data"
    }
   ],
   "source": [
    "button_prev = widgets.Button(description=\"Prev\")\n",
    "button_next = widgets.Button(description=\"Next\")\n",
    "button_reset = widgets.Button(description='Reset')\n",
    "\n",
    "hbox = HBox([button_prev, button_next, button_reset, button_add])\n",
    "\n",
    "def handle_prev(e):\n",
    "    to_prev()\n",
    "    render()\n",
    "\n",
    "def handle_next(e):\n",
    "    to_next()\n",
    "    render()\n",
    "\n",
    "def handle_reset(e):\n",
    "    reset()\n",
    "    render()\n",
    "\n",
    "button_prev.on_click(handle_prev)\n",
    "button_next.on_click(handle_next)\n",
    "button_reset.on_click(handle_reset)\n",
    "\n",
    "html = widgets.HTML(value='', placeholder='Enter html', description='')\n",
    "input_keyword = widgets.Text(value=','.join(keywords),\n",
    "                             description='Keywords')\n",
    "\n",
    "@debounce(0.25)\n",
    "def update_keyword(new_kw):\n",
    "    update_keywords(new_kw)\n",
    "    render()\n",
    "    \n",
    "interact(update_keyword, new_kw=input_keyword)\n",
    "\n",
    "display(hbox,\n",
    "        html)\n",
    "\n",
    "def render():\n",
    "    global keywords\n",
    "    if idx < 0:\n",
    "        html.value = \"Press next to start\"\n",
    "        return\n",
    "    if idx >= len(sentences) - 1:\n",
    "        html.value = 'Completed'\n",
    "        return\n",
    "\n",
    "    sentence = sentences[idx]\n",
    "    display(sentence, idx)\n",
    "    preprocess(sentence)\n",
    "    \n",
    "    annotations = result[idx].annotations\n",
    "    for annotation in annotations:\n",
    "        sentence = sentence.replace(annotation.text, f'<b style=\"background: #FFFBCC\">{annotation.text}</b>')\n",
    "    \n",
    "    html.value = f\"Total: {len(sentences)}, Current: {idx+1}\"\n",
    "    html.value += '<br/>'\n",
    "    html.value += f'{idx+1}. {sentence}'\n",
    "    html.value += '<br/>'"
   ]
  },
  {
   "cell_type": "code",
   "execution_count": 17,
   "metadata": {},
   "outputs": [
    {
     "data": {
      "text/plain": [
       "'The 9 Best Programming Languages to Learn in 2020 | Fullstack Academy       \\n\\n\\n\\n\\n\\n\\n\\n\\n\\n\\n\\n\\n\\n\\n\\n\\n\\n\\n\\n\\n\\n\\n\\n\\n\\n\\n\\n\\n\\n\\nPrograms\\n\\n\\n\\n\\nNew York\\n\\n\\n\\nFull-time Coding Bootcamp\\n\\n\\n\\n\\nPart-time Flex Coding Bootcamp\\n\\n\\n\\n\\nGrace Hopper Program\\n\\n\\n\\n\\nWeb Development Fellowship (WDF)\\n\\n\\n\\n\\nCybersecurity Bootcamp\\n\\n\\n\\n\\n\\nChicago\\n\\n\\n\\nFull-time Coding Bootcamp\\n\\n\\n\\n\\nPart-time Flex Coding Bootcamp\\n\\n\\n\\n\\nGrace Hopper Program\\n\\n\\n\\n\\n\\nOnline\\n\\n\\n\\nOnline Coding Bootcamp\\n\\n\\n\\n\\n\\n\\nTuition & Dates\\n\\n\\n\\n\\nSummer of Code\\n\\n\\n\\n\\n\\n\\n\\nCampus\\n\\n\\n\\n\\n\\nNew York\\n\\n\\n\\n\\nChicago\\n\\n\\n\\n\\nOnline\\n\\n\\n\\n\\n\\n\\n\\nAdmissions Prep\\n\\n\\n\\n\\n\\nIntro to Coding\\n\\n\\n\\n\\nBootcamp Prep Course\\n\\n\\n\\n\\nAdmissions Prep Workshop\\n\\n\\n\\n\\nMore Events\\n\\n\\n\\n\\n\\n\\n\\nWhy Fullstack\\n\\n\\n\\n\\n\\nStudent Stories\\n\\n\\n\\n\\nReviews\\n\\n\\n\\n\\nHiring Outcomes\\n\\n\\n\\n\\nJob Search Help\\n\\n\\n\\n\\nCurriculum\\n\\n\\n\\n\\nFinancing\\n\\n\\n\\n\\nAdmissions\\n\\n\\n\\n\\nFAQs\\n\\n\\n\\n\\n\\n\\n\\nAbout\\n\\n\\n\\n\\n\\nCareers\\n\\n\\n\\n\\nBlog\\n\\n\\n\\n\\nPress\\n\\n\\n\\n\\nPartners\\n\\n\\n\\n\\nFor Universities\\n\\n\\n\\n\\nFor Employers\\n\\n\\n\\n\\n\\n\\n\\n\\n\\nApply\\n\\n\\n\\r\\n   Closing Soon!'"
      ]
     },
     "execution_count": 17,
     "metadata": {},
     "output_type": "execute_result"
    }
   ],
   "source": []
  },
  {
   "cell_type": "code",
   "execution_count": 43,
   "metadata": {},
   "outputs": [],
   "source": []
  },
  {
   "cell_type": "code",
   "execution_count": 44,
   "metadata": {},
   "outputs": [
    {
     "data": {
      "text/plain": [
       "'The 9 Best Programming Languages to Learn in 2020 | Fullstack Academy Programs New York Full-time Coding Bootcamp Part-time Flex Coding Bootcamp Grace Hopper Program Web Development Fellowship (WDF) Cybersecurity Bootcamp Chicago Full-time Coding Bootcamp Part-time Flex Coding Bootcamp Grace Hopper Program Online Online Coding Bootcamp Tuition & Dates Summer of Code Campus New York Chicago Online Admissions Prep Intro to Coding Bootcamp Prep Course Admissions Prep Workshop More Events Why Fullstack Student Stories Reviews Hiring Outcomes Job Search Help Curriculum Financing Admissions FAQs About Careers Blog Press Partners For Universities For Employers Apply Closing Soon!'"
      ]
     },
     "execution_count": 44,
     "metadata": {},
     "output_type": "execute_result"
    }
   ],
   "source": []
  },
  {
   "cell_type": "code",
   "execution_count": null,
   "metadata": {},
   "outputs": [],
   "source": []
  }
 ],
 "metadata": {
  "kernelspec": {
   "display_name": "Python 3",
   "language": "python",
   "name": "python3"
  },
  "language_info": {
   "codemirror_mode": {
    "name": "ipython",
    "version": 3
   },
   "file_extension": ".py",
   "mimetype": "text/x-python",
   "name": "python",
   "nbconvert_exporter": "python",
   "pygments_lexer": "ipython3",
   "version": "3.8.5"
  }
 },
 "nbformat": 4,
 "nbformat_minor": 4
}
