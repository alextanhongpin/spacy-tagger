{
 "cells": [
  {
   "cell_type": "code",
   "execution_count": 1,
   "metadata": {},
   "outputs": [],
   "source": [
    "# !pip3 install ipywidgets\n",
    "# !jupyter nbextension enable --py widgetsnbextension\n",
    "# !jupyter lab clean\n",
    "# !jupyter labextension install @jupyter-widgets/jupyterlab-manager"
   ]
  },
  {
   "cell_type": "code",
   "execution_count": 2,
   "metadata": {},
   "outputs": [],
   "source": [
    "from __future__ import print_function\n",
    "from ipywidgets import interact, Box, HBox, VBox\n",
    "import ipywidgets as widgets\n",
    "from IPython.display import display\n",
    "\n",
    "import re\n",
    "from dataclasses import dataclass\n",
    "from typing import List"
   ]
  },
  {
   "cell_type": "markdown",
   "metadata": {},
   "source": [
    "## Debounce\n",
    "\n",
    "Decorator to debounce. E.g. `@debounce(0.25)`\n",
    "\n",
    "References:\n",
    "- https://ipywidgets.readthedocs.io/en/latest/examples/Widget%20Events.html?highlight=throttle#Debouncing"
   ]
  },
  {
   "cell_type": "code",
   "execution_count": 3,
   "metadata": {},
   "outputs": [],
   "source": [
    "import asyncio\n",
    "\n",
    "class Timer:\n",
    "    def __init__(self, timeout, callback):\n",
    "        self._timeout = timeout\n",
    "        self._callback = callback\n",
    "        self._task = asyncio.ensure_future(self._job())\n",
    "\n",
    "    async def _job(self):\n",
    "        await asyncio.sleep(self._timeout)\n",
    "        self._callback()\n",
    "\n",
    "    def cancel(self):\n",
    "        self._task.cancel()\n",
    "\n",
    "def debounce(wait):\n",
    "    \"\"\" Decorator that will postpone a function's\n",
    "        execution until after `wait` seconds\n",
    "        have elapsed since the last time it was invoked. \"\"\"\n",
    "    def decorator(fn):\n",
    "        timer = None\n",
    "        def debounced(*args, **kwargs):\n",
    "            nonlocal timer\n",
    "            def call_it():\n",
    "                fn(*args, **kwargs)\n",
    "            if timer is not None:\n",
    "                timer.cancel()\n",
    "            timer = Timer(wait, call_it)\n",
    "        return debounced\n",
    "    return decorator"
   ]
  },
  {
   "cell_type": "code",
   "execution_count": 4,
   "metadata": {},
   "outputs": [],
   "source": [
    "@dataclass\n",
    "class Annotation:\n",
    "    entity: str\n",
    "    label: str\n",
    "    start: int\n",
    "    end: int\n",
    "        \n",
    "@dataclass\n",
    "class Sentence:\n",
    "    text: str\n",
    "    annotations: List[Annotation]"
   ]
  },
  {
   "cell_type": "code",
   "execution_count": 5,
   "metadata": {},
   "outputs": [],
   "source": [
    "def f(x):\n",
    "    return x\n",
    "\n",
    "output = widgets.Output()\n",
    "with output:\n",
    "    interact(f, x=10)"
   ]
  },
  {
   "cell_type": "code",
   "execution_count": 6,
   "metadata": {},
   "outputs": [],
   "source": [
    "# Install a pip package in the current Jupyter kernel\n",
    "# import sys\n",
    "# !{sys.executable} -m pip install BeautifulSoup4"
   ]
  },
  {
   "cell_type": "code",
   "execution_count": 7,
   "metadata": {},
   "outputs": [],
   "source": [
    "import nltk\n",
    "import requests\n",
    "from collections import Counter\n",
    "from bs4 import BeautifulSoup\n",
    "from functools import partial\n",
    "import json"
   ]
  },
  {
   "cell_type": "code",
   "execution_count": 8,
   "metadata": {},
   "outputs": [],
   "source": [
    "url = 'https://buttercms.com/blog/vue-vs-react-which-is-the-better-framework'"
   ]
  },
  {
   "cell_type": "code",
   "execution_count": 9,
   "metadata": {},
   "outputs": [],
   "source": [
    "headers = {'user-agent': 'Mozilla/5.0 (Macintosh; Intel Mac OS X 10_11_6) AppleWebKit/537.36 (KHTML, like Gecko) Chrome/53.0.2785.143 Safari/537.36'}\n",
    "page = requests.get(url, headers=headers,timeout=5)\n",
    "# Deal with weird characters.\n",
    "page.encoding = page.apparent_encoding\n",
    "if page.status_code != 200:\n",
    "    raise Exception(\"unable to fetch page\")"
   ]
  },
  {
   "cell_type": "code",
   "execution_count": 10,
   "metadata": {},
   "outputs": [
    {
     "data": {
      "text/plain": [
       "14937"
      ]
     },
     "execution_count": 10,
     "metadata": {},
     "output_type": "execute_result"
    }
   ],
   "source": [
    "soup = BeautifulSoup(page.text, 'html.parser')\n",
    "text = soup.get_text()\n",
    "len(text)"
   ]
  },
  {
   "cell_type": "code",
   "execution_count": 11,
   "metadata": {},
   "outputs": [
    {
     "data": {
      "text/plain": [
       "[('react', 52),\n",
       " ('vue', 50),\n",
       " ('content', 25),\n",
       " ('developers', 18),\n",
       " ('butter', 11),\n",
       " ('api', 11),\n",
       " ('buttercms', 10),\n",
       " (\"''\", 10),\n",
       " ('use', 9),\n",
       " ('state', 9)]"
      ]
     },
     "execution_count": 11,
     "metadata": {},
     "output_type": "execute_result"
    }
   ],
   "source": [
    "tokens = [word for sent in nltk.sent_tokenize(text.lower()) \n",
    "             for word in nltk.word_tokenize(sent)]\n",
    "stopwords = set(nltk.corpus.stopwords.words('english'))\n",
    "tokens = [token for token in tokens if token not in stopwords and len(token) > 1]\n",
    "tokens = Counter(tokens)\n",
    "tokens.most_common(10)"
   ]
  },
  {
   "cell_type": "code",
   "execution_count": 12,
   "metadata": {},
   "outputs": [],
   "source": [
    "def clear_newlines_and_whitespaces(s):\n",
    "    return re.sub(r'\\s+', ' ', s).strip()"
   ]
  },
  {
   "cell_type": "code",
   "execution_count": 13,
   "metadata": {},
   "outputs": [
    {
     "data": {
      "text/plain": [
       "(76, 'Vue vs React: Which is the better framework?')"
      ]
     },
     "execution_count": 13,
     "metadata": {},
     "output_type": "execute_result"
    }
   ],
   "source": [
    "sentences = nltk.sent_tokenize(text)\n",
    "sentences = list(map(clear_newlines_and_whitespaces, sentences))\n",
    "len(sentences), sentences[0]"
   ]
  },
  {
   "cell_type": "code",
   "execution_count": 14,
   "metadata": {},
   "outputs": [
    {
     "data": {
      "text/plain": [
       "dict_keys(['react', 'vue', 'content', 'developers', 'butter', 'api', 'buttercms', \"''\", 'use', 'state'])"
      ]
     },
     "execution_count": 14,
     "metadata": {},
     "output_type": "execute_result"
    }
   ],
   "source": [
    "keywords = dict(tokens.most_common(10)).keys()\n",
    "keywords"
   ]
  },
  {
   "cell_type": "code",
   "execution_count": 15,
   "metadata": {},
   "outputs": [],
   "source": [
    "label = 'SKILL'\n",
    "result: List[Sentence] = [None] * len(sentences)\n",
    "idx = -1"
   ]
  },
  {
   "cell_type": "code",
   "execution_count": 16,
   "metadata": {},
   "outputs": [],
   "source": [
    "def to_next():\n",
    "    global idx\n",
    "    if idx >= len(sentences) - 1:\n",
    "        return\n",
    "    idx = idx + 1\n",
    "\n",
    "def to_prev():\n",
    "    global idx\n",
    "    if idx <= 0:\n",
    "        return\n",
    "    idx = idx - 1\n",
    "    \n",
    "def reset():\n",
    "    global idx\n",
    "    global result\n",
    "    result = [None] * len(sentences)\n",
    "    idx = -1\n",
    "\n",
    "def reject():\n",
    "    pass\n",
    "\n",
    "def build_regexp():\n",
    "    # Sort regex from longest to shortest - this will match \"golang\" first, then \"go\" instead of the opposite.\n",
    "    longest_to_shortest_keywords = sorted(keywords, key=lambda item: len(item), reverse=True)\n",
    "    \n",
    "    # Set boundary matching for keyword, so that \"go\" won't match \"going\"\n",
    "    def escape_all(s):\n",
    "        # Word boundary only applies for character, so non-character like c++ will not match.\n",
    "        if s.isalpha():\n",
    "            return r'\\b{}\\b'.format(re.escape(s))\n",
    "        return r'{}'.format(re.escape(s))\n",
    "    \n",
    "    keywords_to_match = '|'.join(map(escape_all, longest_to_shortest_keywords))\n",
    "    pattern = r'{}'.format(keywords_to_match)\n",
    "    return partial(re.finditer, pattern, flags=re.IGNORECASE|re.MULTILINE|re.UNICODE)\n",
    "\n",
    "def preprocess(sentence):\n",
    "    global keywords\n",
    "    global result\n",
    "    \n",
    "    # Create raw regex string to match the boundary, so that searching for \"go\" won't match \"going\".\n",
    "    regexp = build_regexp()\n",
    "    annotations: List[Annotation] = []\n",
    "        \n",
    "    for m in regexp(sentence):\n",
    "        s, e = m.span()\n",
    "        annotations.append(Annotation(sentence[s:e], label, s, e))\n",
    "    \n",
    "    display(idx)\n",
    "    result[idx] = Sentence(sentence, annotations)\n",
    "    \n",
    "def update_keywords(new_kw):\n",
    "    global keywords\n",
    "    tags = new_kw.split(',')\n",
    "    tags = map(lambda s: s.strip(), tags)\n",
    "    tags = filter(lambda s: len(s) > 0, tags)\n",
    "    tags = list(set(list(tags)))\n",
    "    keywords = tags"
   ]
  },
  {
   "cell_type": "code",
   "execution_count": 19,
   "metadata": {},
   "outputs": [
    {
     "data": {
      "application/vnd.jupyter.widget-view+json": {
       "model_id": "a56a2eab3ba243ecbbc6727a9411e379",
       "version_major": 2,
       "version_minor": 0
      },
      "text/plain": [
       "interactive(children=(Text(value=\"content,api,use,developers,vue,state,buttercms,butter,react,''\", description…"
      ]
     },
     "metadata": {},
     "output_type": "display_data"
    },
    {
     "data": {
      "application/vnd.jupyter.widget-view+json": {
       "model_id": "9f7e9c6d265e4b93bef5e025de6e6fb9",
       "version_major": 2,
       "version_minor": 0
      },
      "text/plain": [
       "HBox(children=(Button(description='Prev', style=ButtonStyle()), Button(description='Next', style=ButtonStyle()…"
      ]
     },
     "metadata": {},
     "output_type": "display_data"
    },
    {
     "data": {
      "application/vnd.jupyter.widget-view+json": {
       "model_id": "186d0028d8734fcd8e7aa7ccbfed9e69",
       "version_major": 2,
       "version_minor": 0
      },
      "text/plain": [
       "HTML(value='', placeholder='Enter html')"
      ]
     },
     "metadata": {},
     "output_type": "display_data"
    },
    {
     "data": {
      "text/plain": [
       "\"| ButterCMS ButterCMS Solutions Ecommerce Improve conversion and product offerings Agencies Manage your clients' CMS in one place SaaS Scale content with company growth Marketplaces Extend your reach and boost organic traffic Features Flexible Content Modeling Make content changes dead simple for your content editors Components Components enable your marketers to compose flexible page layouts and easily reorder those layouts.\""
      ]
     },
     "metadata": {},
     "output_type": "display_data"
    },
    {
     "data": {
      "text/plain": [
       "1"
      ]
     },
     "metadata": {},
     "output_type": "display_data"
    },
    {
     "data": {
      "text/plain": [
       "1"
      ]
     },
     "metadata": {},
     "output_type": "display_data"
    }
   ],
   "source": [
    "button_prev = widgets.Button(description=\"Prev\")\n",
    "button_next = widgets.Button(description=\"Next\")\n",
    "button_reset = widgets.Button(description='Reset')\n",
    "\n",
    "hbox = HBox([button_prev, button_next, button_reset])\n",
    "\n",
    "def handle_prev(e):\n",
    "    to_prev()\n",
    "    render()\n",
    "\n",
    "def handle_next(e):\n",
    "    to_next()\n",
    "    render()\n",
    "\n",
    "def handle_reset(e):\n",
    "    reset()\n",
    "    render()\n",
    "\n",
    "button_prev.on_click(handle_prev)\n",
    "button_next.on_click(handle_next)\n",
    "button_reset.on_click(handle_reset)\n",
    "\n",
    "html = widgets.HTML(value='', placeholder='Enter html', description='')\n",
    "input_keyword = widgets.Text(value=','.join(keywords),\n",
    "                             description='Keywords')\n",
    "\n",
    "@debounce(0.25)\n",
    "def update_keyword(new_kw):\n",
    "    update_keywords(new_kw)\n",
    "    render()\n",
    "    \n",
    "interact(update_keyword, new_kw=input_keyword)\n",
    "\n",
    "display(hbox,\n",
    "        html)\n",
    "\n",
    "def render():\n",
    "    global keywords\n",
    "    if idx < 0:\n",
    "        html.value = \"Press next to start\"\n",
    "        return\n",
    "    if idx >= len(sentences) - 1:\n",
    "        html.value = 'Completed'\n",
    "        return\n",
    "\n",
    "    sentence = sentences[idx]\n",
    "    display(sentence, idx)\n",
    "    preprocess(sentence)\n",
    "    \n",
    "    annotations = result[idx].annotations\n",
    "    for annotation in annotations:\n",
    "        sentence = re.sub(r'\\b{}\\b'.format(annotation.entity),\n",
    "                          f'<b style=\"background: #FFFBCC\">{annotation.entity}</b>', \n",
    "                          sentence, flags=re.IGNORECASE|re.MULTILINE|re.UNICODE)\n",
    "    \n",
    "    html.value = f\"Total: {len(sentences)}, Current: {idx+1}\"\n",
    "    html.value += '<br/>'\n",
    "    html.value += f'{idx+1}. {sentence}'\n",
    "    html.value += '<br/>'"
   ]
  },
  {
   "cell_type": "code",
   "execution_count": 36,
   "metadata": {},
   "outputs": [
    {
     "data": {
      "text/plain": [
       "(75,\n",
       " {'text': 'Vue vs React: Which is the better framework?',\n",
       "  'annotations': [{'entity': 'Vue', 'label': 'SKILL', 'start': 0, 'end': 3},\n",
       "   {'entity': 'React', 'label': 'SKILL', 'start': 7, 'end': 12}]})"
      ]
     },
     "execution_count": 36,
     "metadata": {},
     "output_type": "execute_result"
    }
   ],
   "source": [
    "from dataclasses import asdict\n",
    "data_to_db = [asdict(item) for item in result if item is not None]\n",
    "len(data_to_db), data_to_db[0]"
   ]
  },
  {
   "cell_type": "code",
   "execution_count": 33,
   "metadata": {},
   "outputs": [],
   "source": [
    "import sqlite3\n",
    "import json\n",
    "\n",
    "class dbopen(object):\n",
    "    def __init__(self, path='data.db'):\n",
    "        self.path = path\n",
    "        \n",
    "    def __enter__(self):\n",
    "        self.conn = sqlite3.connect(self.path)\n",
    "        self.cursor = self.conn.cursor()\n",
    "        return self.cursor\n",
    "    \n",
    "    def __exit__(self, exc_class, exc, traceback):\n",
    "        self.conn.commit()\n",
    "        self.conn.close()"
   ]
  },
  {
   "cell_type": "code",
   "execution_count": 40,
   "metadata": {},
   "outputs": [
    {
     "ename": "IntegrityError",
     "evalue": "UNIQUE constraint failed: skill.url",
     "output_type": "error",
     "traceback": [
      "\u001b[0;31m---------------------------------------------------------------------------\u001b[0m",
      "\u001b[0;31mIntegrityError\u001b[0m                            Traceback (most recent call last)",
      "\u001b[0;32m<ipython-input-40-ce8196a5f712>\u001b[0m in \u001b[0;36m<module>\u001b[0;34m\u001b[0m\n\u001b[1;32m      1\u001b[0m \u001b[0;32mwith\u001b[0m \u001b[0mdbopen\u001b[0m\u001b[0;34m(\u001b[0m\u001b[0;34m)\u001b[0m \u001b[0;32mas\u001b[0m \u001b[0mc\u001b[0m\u001b[0;34m:\u001b[0m\u001b[0;34m\u001b[0m\u001b[0;34m\u001b[0m\u001b[0m\n\u001b[0;32m----> 2\u001b[0;31m     \u001b[0mc\u001b[0m\u001b[0;34m.\u001b[0m\u001b[0mexecute\u001b[0m\u001b[0;34m(\u001b[0m\u001b[0;34m'INSERT INTO skill (url, text, data) VALUES (?, ?, ?)'\u001b[0m\u001b[0;34m,\u001b[0m \u001b[0;34m(\u001b[0m\u001b[0murl\u001b[0m\u001b[0;34m,\u001b[0m \u001b[0mtext\u001b[0m\u001b[0;34m,\u001b[0m \u001b[0mjson\u001b[0m\u001b[0;34m.\u001b[0m\u001b[0mdumps\u001b[0m\u001b[0;34m(\u001b[0m\u001b[0mdata_to_db\u001b[0m\u001b[0;34m)\u001b[0m\u001b[0;34m,\u001b[0m\u001b[0;34m)\u001b[0m\u001b[0;34m)\u001b[0m\u001b[0;34m\u001b[0m\u001b[0;34m\u001b[0m\u001b[0m\n\u001b[0m\u001b[1;32m      3\u001b[0m     \u001b[0mprint\u001b[0m\u001b[0;34m(\u001b[0m\u001b[0mc\u001b[0m\u001b[0;34m.\u001b[0m\u001b[0mexecute\u001b[0m\u001b[0;34m(\u001b[0m\u001b[0;34m'SELECT id, url FROM skill'\u001b[0m\u001b[0;34m)\u001b[0m\u001b[0;34m.\u001b[0m\u001b[0mfetchall\u001b[0m\u001b[0;34m(\u001b[0m\u001b[0;34m)\u001b[0m\u001b[0;34m)\u001b[0m\u001b[0;34m\u001b[0m\u001b[0;34m\u001b[0m\u001b[0m\n",
      "\u001b[0;31mIntegrityError\u001b[0m: UNIQUE constraint failed: skill.url"
     ]
    }
   ],
   "source": [
    "with dbopen() as c:\n",
    "    c.execute('INSERT INTO skill (url, text, data) VALUES (?, ?, ?)', (url, text, json.dumps(data_to_db),))\n",
    "    print(c.execute('SELECT id, url FROM skill').fetchall())"
   ]
  },
  {
   "cell_type": "code",
   "execution_count": null,
   "metadata": {},
   "outputs": [],
   "source": []
  }
 ],
 "metadata": {
  "kernelspec": {
   "display_name": "Python 3",
   "language": "python",
   "name": "python3"
  },
  "language_info": {
   "codemirror_mode": {
    "name": "ipython",
    "version": 3
   },
   "file_extension": ".py",
   "mimetype": "text/x-python",
   "name": "python",
   "nbconvert_exporter": "python",
   "pygments_lexer": "ipython3",
   "version": "3.8.5"
  }
 },
 "nbformat": 4,
 "nbformat_minor": 4
}
