{
 "cells": [
  {
   "cell_type": "code",
   "execution_count": null,
   "metadata": {},
   "outputs": [],
   "source": [
    "# !pip3 install ipywidgets\n",
    "# !jupyter nbextension enable --py widgetsnbextension\n",
    "# !jupyter lab clean\n",
    "# !jupyter labextension install @jupyter-widgets/jupyterlab-manager"
   ]
  },
  {
   "cell_type": "code",
   "execution_count": 1,
   "metadata": {},
   "outputs": [],
   "source": [
    "from __future__ import print_function\n",
    "from ipywidgets import interact, Box, HBox, VBox\n",
    "import ipywidgets as widgets\n",
    "from IPython.display import display\n",
    "\n",
    "import re\n",
    "from dataclasses import dataclass\n",
    "from typing import List"
   ]
  },
  {
   "cell_type": "markdown",
   "metadata": {},
   "source": [
    "## Debounce\n",
    "\n",
    "Decorator to debounce. E.g. `@debounce(0.25)`\n",
    "\n",
    "References:\n",
    "- https://ipywidgets.readthedocs.io/en/latest/examples/Widget%20Events.html?highlight=throttle#Debouncing"
   ]
  },
  {
   "cell_type": "code",
   "execution_count": 2,
   "metadata": {},
   "outputs": [],
   "source": [
    "import asyncio\n",
    "\n",
    "class Timer:\n",
    "    def __init__(self, timeout, callback):\n",
    "        self._timeout = timeout\n",
    "        self._callback = callback\n",
    "        self._task = asyncio.ensure_future(self._job())\n",
    "\n",
    "    async def _job(self):\n",
    "        await asyncio.sleep(self._timeout)\n",
    "        self._callback()\n",
    "\n",
    "    def cancel(self):\n",
    "        self._task.cancel()\n",
    "\n",
    "def debounce(wait):\n",
    "    \"\"\" Decorator that will postpone a function's\n",
    "        execution until after `wait` seconds\n",
    "        have elapsed since the last time it was invoked. \"\"\"\n",
    "    def decorator(fn):\n",
    "        timer = None\n",
    "        def debounced(*args, **kwargs):\n",
    "            nonlocal timer\n",
    "            def call_it():\n",
    "                fn(*args, **kwargs)\n",
    "            if timer is not None:\n",
    "                timer.cancel()\n",
    "            timer = Timer(wait, call_it)\n",
    "        return debounced\n",
    "    return decorator"
   ]
  },
  {
   "cell_type": "code",
   "execution_count": 3,
   "metadata": {},
   "outputs": [],
   "source": [
    "@dataclass\n",
    "class Annotation:\n",
    "    text: str\n",
    "    start: int\n",
    "    end: int\n",
    "        \n",
    "@dataclass\n",
    "class Sentence:\n",
    "    text: str\n",
    "    annotations: List[Annotation]"
   ]
  },
  {
   "cell_type": "code",
   "execution_count": 4,
   "metadata": {},
   "outputs": [],
   "source": [
    "def f(x):\n",
    "    return x\n",
    "\n",
    "output = widgets.Output()\n",
    "with output:\n",
    "    interact(f, x=10)"
   ]
  },
  {
   "cell_type": "code",
   "execution_count": 5,
   "metadata": {},
   "outputs": [
    {
     "name": "stdout",
     "output_type": "stream",
     "text": [
      "Requirement already satisfied: BeautifulSoup4 in /Users/alextanhongpin/.local/share/virtualenvs/natural_language_processing_with_python_co-tJ8vfo8Q/lib/python3.8/site-packages (4.9.1)\n",
      "Requirement already satisfied: soupsieve>1.2 in /Users/alextanhongpin/.local/share/virtualenvs/natural_language_processing_with_python_co-tJ8vfo8Q/lib/python3.8/site-packages (from BeautifulSoup4) (2.0.1)\n"
     ]
    }
   ],
   "source": [
    "# Install a pip package in the current Jupyter kernel\n",
    "import sys\n",
    "!{sys.executable} -m pip install BeautifulSoup4"
   ]
  },
  {
   "cell_type": "code",
   "execution_count": 6,
   "metadata": {},
   "outputs": [],
   "source": [
    "import nltk\n",
    "import requests\n",
    "from collections import Counter\n",
    "from bs4 import BeautifulSoup\n",
    "from functools import partial\n",
    "import json"
   ]
  },
  {
   "cell_type": "code",
   "execution_count": 32,
   "metadata": {},
   "outputs": [],
   "source": [
    "url = 'https://www.ignite.digital/10-best-programming-languages-to-learn-in-2020/'"
   ]
  },
  {
   "cell_type": "code",
   "execution_count": 8,
   "metadata": {},
   "outputs": [],
   "source": [
    "headers = {'user-agent': 'Mozilla/5.0 (Macintosh; Intel Mac OS X 10_11_6) AppleWebKit/537.36 (KHTML, like Gecko) Chrome/53.0.2785.143 Safari/537.36'}\n",
    "page = requests.get(url, headers=headers,timeout=5)\n",
    "# Deal with weird characters.\n",
    "page.encoding = page.apparent_encoding\n",
    "if page.status_code != 200:\n",
    "    raise Exception(\"unable to fetch page\")"
   ]
  },
  {
   "cell_type": "code",
   "execution_count": 9,
   "metadata": {},
   "outputs": [
    {
     "data": {
      "text/plain": [
       "11874"
      ]
     },
     "execution_count": 9,
     "metadata": {},
     "output_type": "execute_result"
    }
   ],
   "source": [
    "soup = BeautifulSoup(page.text, 'html.parser')\n",
    "text = soup.get_text()\n",
    "len(text)"
   ]
  },
  {
   "cell_type": "code",
   "execution_count": 10,
   "metadata": {},
   "outputs": [
    {
     "data": {
      "text/plain": [
       "[('programming', 31),\n",
       " ('language', 22),\n",
       " ('languages', 13),\n",
       " ('used', 13),\n",
       " ('python', 12),\n",
       " ('learn', 11),\n",
       " ('use', 11),\n",
       " ('best', 9),\n",
       " ('web', 9),\n",
       " ('applications', 9)]"
      ]
     },
     "execution_count": 10,
     "metadata": {},
     "output_type": "execute_result"
    }
   ],
   "source": [
    "tokens = [word for sent in nltk.sent_tokenize(text.lower()) \n",
    "             for word in nltk.word_tokenize(sent)]\n",
    "stopwords = set(nltk.corpus.stopwords.words('english'))\n",
    "tokens = [token for token in tokens if token not in stopwords and len(token) > 1]\n",
    "tokens = Counter(tokens)\n",
    "tokens.most_common(10)"
   ]
  },
  {
   "cell_type": "code",
   "execution_count": 11,
   "metadata": {},
   "outputs": [],
   "source": [
    "def clear_newlines_and_whitespaces(s):\n",
    "    return re.sub(r'\\s+', ' ', s).strip()"
   ]
  },
  {
   "cell_type": "code",
   "execution_count": 12,
   "metadata": {},
   "outputs": [
    {
     "data": {
      "text/plain": [
       "(80,\n",
       " '10 Best programming languages to learn in 2020 - Ignite Digital Talent Skip to content Job Search Find PermanentContract permanent Jobs AnywhereB2 4QAB40 1PABA1 1SUBA11SUBasingstokeBathBH8 8HXBirminghamBournemouthBracknellBrightonBristolBS1 6QFBS37 5HZCambridgeCardiffCB1 2JWChippenhamCornwallE14EC2M 7PYG1 3SLGermanyGlasgowHampshireIlfordIrelandKarlsruheLeedsLeicesterLondonMaidenheadManchesterNewburyOX1 1HSOxfordOxfordshireReadingRedhillReigateremoteRG11LYRG12 1FLRG14 5DGRG21 5AHRH2 0BDSL61EWSM4 5AZSO15 1GPSomersetSouth GloucestershireSouth LondonSouthamptonSwindonTelfordTF3 4LZW1T 2HFWaterfordWC1A 1DDWC2E 9JTWiltshireYork Anywhere earning Any Salary£20k +£30k +£40k +£50k +£60k + Any Salary including words: Search: Search Jobs About UsJobsFor EmployersBlogContact Ignite Digital Talent About UsJobsFor EmployersBlogContact10 Best programming languages to learn in 2020 Ollie HepburnTweetPinShareWhatsAppEmailShare10The digital age is upon us, and knowing the best programming languages stands you in very good stead for getting the job you want.')"
      ]
     },
     "execution_count": 12,
     "metadata": {},
     "output_type": "execute_result"
    }
   ],
   "source": [
    "sentences = nltk.sent_tokenize(text)\n",
    "sentences = list(map(clear_newlines_and_whitespaces, sentences))\n",
    "len(sentences), sentences[0]"
   ]
  },
  {
   "cell_type": "code",
   "execution_count": 13,
   "metadata": {},
   "outputs": [
    {
     "data": {
      "text/plain": [
       "dict_keys(['programming', 'language', 'languages', 'used', 'python', 'learn', 'use', 'best', 'web', 'applications'])"
      ]
     },
     "execution_count": 13,
     "metadata": {},
     "output_type": "execute_result"
    }
   ],
   "source": [
    "keywords = dict(tokens.most_common(10)).keys()\n",
    "keywords"
   ]
  },
  {
   "cell_type": "code",
   "execution_count": 14,
   "metadata": {},
   "outputs": [],
   "source": [
    "tag = 'SKILL'\n",
    "result: List[Sentence] = [None] * len(sentences)\n",
    "idx = -1"
   ]
  },
  {
   "cell_type": "code",
   "execution_count": 15,
   "metadata": {},
   "outputs": [],
   "source": [
    "\n",
    "def to_next():\n",
    "    global idx\n",
    "    if idx >= len(sentences) - 1:\n",
    "        return\n",
    "    idx = idx + 1\n",
    "\n",
    "def to_prev():\n",
    "    global idx\n",
    "    if idx <= 0:\n",
    "        return\n",
    "    idx = idx - 1\n",
    "    \n",
    "def reset():\n",
    "    global idx\n",
    "    global result\n",
    "    result = [None] * len(sentences)\n",
    "    idx = -1\n",
    "\n",
    "def reject():\n",
    "    pass\n",
    "\n",
    "def build_regexp():\n",
    "    # Sort regex from longest to shortest - this will match \"golang\" first, then \"go\" instead of the opposite.\n",
    "    longest_to_shortest_keywords = sorted(keywords, key=lambda item: len(item), reverse=True)\n",
    "    \n",
    "    # Set boundary matching for keyword, so that \"go\" won't match \"going\"\n",
    "    def escape_all(s):\n",
    "        # Word boundary only applies for character, so non-character like c++ will not match.\n",
    "        if s.isalpha():\n",
    "            return r'\\b{}\\b'.format(re.escape(s))\n",
    "        return r'{}'.format(re.escape(s))\n",
    "    \n",
    "    keywords_to_match = '|'.join(map(escape_all, longest_to_shortest_keywords))\n",
    "    pattern = r'{}'.format(keywords_to_match)\n",
    "    return partial(re.finditer, pattern, flags=re.IGNORECASE|re.MULTILINE|re.UNICODE)\n",
    "\n",
    "def preprocess(sentence):\n",
    "    global keywords\n",
    "    global result\n",
    "    \n",
    "    # Create raw regex string to match the boundary, so that searching for \"go\" won't match \"going\".\n",
    "    regexp = build_regexp()\n",
    "    annotations: List[Annotation] = []\n",
    "        \n",
    "    for m in regexp(sentence):\n",
    "        s, e = m.span()\n",
    "        annotations.append(Annotation(sentence[s:e], s, e))\n",
    "    \n",
    "    display(idx)\n",
    "    result[idx] = Sentence(sentence, annotations)\n",
    "    \n",
    "def update_keywords(new_kw):\n",
    "    global keywords\n",
    "    tags = new_kw.split(',')\n",
    "    tags = map(lambda s: s.strip(), tags)\n",
    "    tags = filter(lambda s: len(s) > 0, tags)\n",
    "    tags = list(set(list(tags)))\n",
    "    keywords = tags"
   ]
  },
  {
   "cell_type": "code",
   "execution_count": 16,
   "metadata": {},
   "outputs": [
    {
     "data": {
      "application/vnd.jupyter.widget-view+json": {
       "model_id": "37fd568dd3c84d648ec81a4d302a7406",
       "version_major": 2,
       "version_minor": 0
      },
      "text/plain": [
       "interactive(children=(Text(value='programming,language,languages,used,python,learn,use,best,web,applications',…"
      ]
     },
     "metadata": {},
     "output_type": "display_data"
    },
    {
     "data": {
      "application/vnd.jupyter.widget-view+json": {
       "model_id": "8390e649bde946789da9abd1e1504d45",
       "version_major": 2,
       "version_minor": 0
      },
      "text/plain": [
       "HBox(children=(Button(description='Prev', style=ButtonStyle()), Button(description='Next', style=ButtonStyle()…"
      ]
     },
     "metadata": {},
     "output_type": "display_data"
    },
    {
     "data": {
      "application/vnd.jupyter.widget-view+json": {
       "model_id": "157c6c082363437394398eba34d9f6be",
       "version_major": 2,
       "version_minor": 0
      },
      "text/plain": [
       "HTML(value='', placeholder='Enter html')"
      ]
     },
     "metadata": {},
     "output_type": "display_data"
    }
   ],
   "source": [
    "button_prev = widgets.Button(description=\"Prev\")\n",
    "button_next = widgets.Button(description=\"Next\")\n",
    "button_reset = widgets.Button(description='Reset')\n",
    "\n",
    "hbox = HBox([button_prev, button_next, button_reset])\n",
    "\n",
    "def handle_prev(e):\n",
    "    to_prev()\n",
    "    render()\n",
    "\n",
    "def handle_next(e):\n",
    "    to_next()\n",
    "    render()\n",
    "\n",
    "def handle_reset(e):\n",
    "    reset()\n",
    "    render()\n",
    "\n",
    "button_prev.on_click(handle_prev)\n",
    "button_next.on_click(handle_next)\n",
    "button_reset.on_click(handle_reset)\n",
    "\n",
    "html = widgets.HTML(value='', placeholder='Enter html', description='')\n",
    "input_keyword = widgets.Text(value=','.join(keywords),\n",
    "                             description='Keywords')\n",
    "\n",
    "@debounce(0.25)\n",
    "def update_keyword(new_kw):\n",
    "    update_keywords(new_kw)\n",
    "    render()\n",
    "    \n",
    "interact(update_keyword, new_kw=input_keyword)\n",
    "\n",
    "display(hbox,\n",
    "        html)\n",
    "\n",
    "def render():\n",
    "    global keywords\n",
    "    if idx < 0:\n",
    "        html.value = \"Press next to start\"\n",
    "        return\n",
    "    if idx >= len(sentences) - 1:\n",
    "        html.value = 'Completed'\n",
    "        return\n",
    "\n",
    "    sentence = sentences[idx]\n",
    "    display(sentence, idx)\n",
    "    preprocess(sentence)\n",
    "    \n",
    "    annotations = result[idx].annotations\n",
    "    for annotation in annotations:\n",
    "        sentence = sentence.replace(annotation.text, f'<b style=\"background: #FFFBCC\">{annotation.text}</b>')\n",
    "    \n",
    "    html.value = f\"Total: {len(sentences)}, Current: {idx+1}\"\n",
    "    html.value += '<br/>'\n",
    "    html.value += f'{idx+1}. {sentence}'\n",
    "    html.value += '<br/>'"
   ]
  },
  {
   "cell_type": "code",
   "execution_count": 63,
   "metadata": {},
   "outputs": [],
   "source": [
    "import sqlite3\n",
    "\n",
    "conn = sqlite3.connect('skills.db')"
   ]
  },
  {
   "cell_type": "code",
   "execution_count": 181,
   "metadata": {},
   "outputs": [
    {
     "data": {
      "text/plain": [
       "<sqlite3.Cursor at 0x1227a4ce0>"
      ]
     },
     "execution_count": 181,
     "metadata": {},
     "output_type": "execute_result"
    }
   ],
   "source": [
    "# c = conn.cursor()\n",
    "# c.execute(\"\"\"\n",
    "# CREATE TABLE IF NOT EXISTS skill (\n",
    "#     url text UNIQUE NOT NULL,\n",
    "#     created_at timestamp NOT NULL DEFAULT CURRENT_TIMESTAMP,\n",
    "#     updated_at timestamp NOT NULL DEFAULT CURRENT_TIMESTAMP,\n",
    "#     text text NOT NULL,\n",
    "#     data json NOT NULL\n",
    "# )\"\"\")\n",
    "\n",
    "# c.execute(\"\"\"\n",
    "# CREATE TRIGGER update_timestamp\n",
    "# AFTER UPDATE ON skill \n",
    "# BEGIN\n",
    "#     update skill set timestamp = current_timestamp WHERE url = NEW.url;\n",
    "# END\n",
    "# \"\"\")\n",
    "# conn.commit()"
   ]
  },
  {
   "cell_type": "code",
   "execution_count": 91,
   "metadata": {},
   "outputs": [
    {
     "name": "stdout",
     "output_type": "stream",
     "text": [
      "url: https://www.fullstackacademy.com/blog/nine-best-programming-languages-to-learn\n",
      "text: The 9 Best Programming Languages to Learn in 2020 | Fullstack Academy\n",
      "found 88 sentences\n",
      "\n",
      "url: https://www.ignite.digital/10-best-programming-languages-to-learn-in-2020/\n",
      "text: 10 Best programming languages to learn in 2020 - Ignite Digital Talent Skip to conten\n",
      "found 79 sentences\n",
      "\n"
     ]
    }
   ],
   "source": [
    "c = conn.cursor()\n",
    "c.execute(\"select url, substr(text, 0, 100), data from skill\")\n",
    "for (url, text, data) in c.fetchall():\n",
    "    print(f'url: {url}')\n",
    "    print(f'text: {clear_newlines_and_whitespaces(text)}')\n",
    "    annotations = json.loads(data)\n",
    "    print(f'found {len(annotations)} sentences')\n",
    "    print()"
   ]
  },
  {
   "cell_type": "code",
   "execution_count": 56,
   "metadata": {},
   "outputs": [
    {
     "data": {
      "text/plain": [
       "79"
      ]
     },
     "execution_count": 56,
     "metadata": {},
     "output_type": "execute_result"
    }
   ],
   "source": [
    "objs = []\n",
    "for item in result:\n",
    "    if item is None: continue\n",
    "    obj = {\"text\": item.text,\n",
    "           \"annotations\": [{\"start\": ann.start,\n",
    "                            \"end\": ann.end,\n",
    "                            \"text\": ann.text}\n",
    "                           for ann in item.annotations]}\n",
    "    objs.append(obj)\n",
    "len(objs)"
   ]
  },
  {
   "cell_type": "code",
   "execution_count": 57,
   "metadata": {},
   "outputs": [
    {
     "ename": "IntegrityError",
     "evalue": "UNIQUE constraint failed: skill.url",
     "output_type": "error",
     "traceback": [
      "\u001b[0;31m---------------------------------------------------------------------------\u001b[0m",
      "\u001b[0;31mIntegrityError\u001b[0m                            Traceback (most recent call last)",
      "\u001b[0;32m<ipython-input-57-8ed114d4f153>\u001b[0m in \u001b[0;36m<module>\u001b[0;34m\u001b[0m\n\u001b[0;32m----> 1\u001b[0;31m \u001b[0mc\u001b[0m\u001b[0;34m.\u001b[0m\u001b[0mexecute\u001b[0m\u001b[0;34m(\u001b[0m\u001b[0;34m\"INSERT INTO skill (url, text, data) VALUES (?, ?, ?)\"\u001b[0m\u001b[0;34m,\u001b[0m \u001b[0;34m(\u001b[0m\u001b[0murl\u001b[0m\u001b[0;34m,\u001b[0m \u001b[0mtext\u001b[0m\u001b[0;34m,\u001b[0m \u001b[0mjson\u001b[0m\u001b[0;34m.\u001b[0m\u001b[0mdumps\u001b[0m\u001b[0;34m(\u001b[0m\u001b[0mobjs\u001b[0m\u001b[0;34m)\u001b[0m\u001b[0;34m,\u001b[0m\u001b[0;34m)\u001b[0m\u001b[0;34m)\u001b[0m\u001b[0;34m\u001b[0m\u001b[0;34m\u001b[0m\u001b[0m\n\u001b[0m",
      "\u001b[0;31mIntegrityError\u001b[0m: UNIQUE constraint failed: skill.url"
     ]
    }
   ],
   "source": [
    "c.execute(\"INSERT INTO skill (url, text, data) VALUES (?, ?, ?)\", (url, text, json.dumps(objs),))"
   ]
  },
  {
   "cell_type": "code",
   "execution_count": 61,
   "metadata": {},
   "outputs": [
    {
     "ename": "OperationalError",
     "evalue": "database is locked",
     "output_type": "error",
     "traceback": [
      "\u001b[0;31m---------------------------------------------------------------------------\u001b[0m",
      "\u001b[0;31mOperationalError\u001b[0m                          Traceback (most recent call last)",
      "\u001b[0;32m<ipython-input-61-e2f59a37941c>\u001b[0m in \u001b[0;36m<module>\u001b[0;34m\u001b[0m\n\u001b[0;32m----> 1\u001b[0;31m \u001b[0mconn\u001b[0m\u001b[0;34m.\u001b[0m\u001b[0mcommit\u001b[0m\u001b[0;34m(\u001b[0m\u001b[0;34m)\u001b[0m\u001b[0;34m\u001b[0m\u001b[0;34m\u001b[0m\u001b[0m\n\u001b[0m",
      "\u001b[0;31mOperationalError\u001b[0m: database is locked"
     ]
    }
   ],
   "source": [
    "conn.commit()"
   ]
  },
  {
   "cell_type": "code",
   "execution_count": null,
   "metadata": {},
   "outputs": [],
   "source": [
    "c.execute(\"select url from skill\")\n",
    "c.fetchmany()"
   ]
  },
  {
   "cell_type": "code",
   "execution_count": 62,
   "metadata": {},
   "outputs": [],
   "source": [
    "conn.close()"
   ]
  },
  {
   "cell_type": "code",
   "execution_count": null,
   "metadata": {},
   "outputs": [],
   "source": []
  }
 ],
 "metadata": {
  "kernelspec": {
   "display_name": "Python 3",
   "language": "python",
   "name": "python3"
  },
  "language_info": {
   "codemirror_mode": {
    "name": "ipython",
    "version": 3
   },
   "file_extension": ".py",
   "mimetype": "text/x-python",
   "name": "python",
   "nbconvert_exporter": "python",
   "pygments_lexer": "ipython3",
   "version": "3.8.5"
  }
 },
 "nbformat": 4,
 "nbformat_minor": 4
}
