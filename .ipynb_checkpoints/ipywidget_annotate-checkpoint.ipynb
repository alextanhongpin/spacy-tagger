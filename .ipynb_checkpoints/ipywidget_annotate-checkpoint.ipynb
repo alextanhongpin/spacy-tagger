{
 "cells": [
  {
   "cell_type": "code",
   "execution_count": 1,
   "metadata": {
    "jupyter": {
     "source_hidden": true
    }
   },
   "outputs": [],
   "source": [
    "# !pip3 install ipywidgets\n",
    "# !jupyter nbextension enable --py widgetsnbextension\n",
    "# !jupyter lab clean\n",
    "# !jupyter labextension install @jupyter-widgets/jupyterlab-manager"
   ]
  },
  {
   "cell_type": "code",
   "execution_count": 2,
   "metadata": {
    "jupyter": {
     "source_hidden": true
    }
   },
   "outputs": [],
   "source": [
    "from __future__ import print_function\n",
    "from ipywidgets import interact, Box, HBox, VBox\n",
    "import ipywidgets as widgets\n",
    "from IPython.display import display\n",
    "\n",
    "import re\n",
    "from dataclasses import dataclass, asdict\n",
    "from typing import List"
   ]
  },
  {
   "cell_type": "code",
   "execution_count": 3,
   "metadata": {
    "jupyter": {
     "source_hidden": true
    }
   },
   "outputs": [],
   "source": [
    "import sqlite3\n",
    "import json\n",
    "\n",
    "class dbopen(object):\n",
    "    def __init__(self, path='data.db'):\n",
    "        self.path = path\n",
    "        \n",
    "    def __enter__(self):\n",
    "        self.conn = sqlite3.connect(self.path)\n",
    "        self.cursor = self.conn.cursor()\n",
    "        return self.cursor\n",
    "    \n",
    "    def __exit__(self, exc_class, exc, traceback):\n",
    "        self.conn.commit()\n",
    "        self.conn.close()"
   ]
  },
  {
   "cell_type": "markdown",
   "metadata": {
    "jupyter": {
     "source_hidden": true
    }
   },
   "source": [
    "## Debounce\n",
    "\n",
    "Decorator to debounce. E.g. `@debounce(0.25)`\n",
    "\n",
    "References:\n",
    "- https://ipywidgets.readthedocs.io/en/latest/examples/Widget%20Events.html?highlight=throttle#Debouncing"
   ]
  },
  {
   "cell_type": "code",
   "execution_count": 4,
   "metadata": {
    "jupyter": {
     "source_hidden": true
    }
   },
   "outputs": [],
   "source": [
    "import asyncio\n",
    "\n",
    "class Timer:\n",
    "    def __init__(self, timeout, callback):\n",
    "        self._timeout = timeout\n",
    "        self._callback = callback\n",
    "        self._task = asyncio.ensure_future(self._job())\n",
    "\n",
    "    async def _job(self):\n",
    "        await asyncio.sleep(self._timeout)\n",
    "        self._callback()\n",
    "\n",
    "    def cancel(self):\n",
    "        self._task.cancel()\n",
    "\n",
    "def debounce(wait):\n",
    "    \"\"\" Decorator that will postpone a function's\n",
    "        execution until after `wait` seconds\n",
    "        have elapsed since the last time it was invoked. \"\"\"\n",
    "    def decorator(fn):\n",
    "        timer = None\n",
    "        def debounced(*args, **kwargs):\n",
    "            nonlocal timer\n",
    "            def call_it():\n",
    "                fn(*args, **kwargs)\n",
    "            if timer is not None:\n",
    "                timer.cancel()\n",
    "            timer = Timer(wait, call_it)\n",
    "        return debounced\n",
    "    return decorator"
   ]
  },
  {
   "cell_type": "code",
   "execution_count": 5,
   "metadata": {
    "jupyter": {
     "source_hidden": true
    }
   },
   "outputs": [],
   "source": [
    "@dataclass\n",
    "class Annotation:\n",
    "    entity: str\n",
    "    label: str\n",
    "    start: int\n",
    "    end: int\n",
    "        \n",
    "@dataclass\n",
    "class Sentence:\n",
    "    text: str\n",
    "    annotations: List[Annotation]"
   ]
  },
  {
   "cell_type": "code",
   "execution_count": 6,
   "metadata": {
    "jupyter": {
     "source_hidden": true
    }
   },
   "outputs": [],
   "source": [
    "def f(x):\n",
    "    return x\n",
    "\n",
    "output = widgets.Output()\n",
    "with output:\n",
    "    interact(f, x=10)"
   ]
  },
  {
   "cell_type": "code",
   "execution_count": 7,
   "metadata": {
    "jupyter": {
     "source_hidden": true
    }
   },
   "outputs": [],
   "source": [
    "# Install a pip package in the current Jupyter kernel\n",
    "# import sys\n",
    "# !{sys.executable} -m pip install BeautifulSoup4"
   ]
  },
  {
   "cell_type": "code",
   "execution_count": 8,
   "metadata": {
    "jupyter": {
     "source_hidden": true
    }
   },
   "outputs": [],
   "source": [
    "import nltk\n",
    "import requests\n",
    "from collections import Counter\n",
    "from bs4 import BeautifulSoup\n",
    "from functools import partial\n",
    "import json"
   ]
  },
  {
   "cell_type": "code",
   "execution_count": 123,
   "metadata": {
    "jupyter": {
     "source_hidden": true
    }
   },
   "outputs": [],
   "source": [
    "STOPWORDS = set(nltk.corpus.stopwords.words('english'))\n",
    "\n",
    "class Annotator:\n",
    "    def __init__(self, url, label):\n",
    "        self.url = url\n",
    "        self.label = label\n",
    "        self.result = []\n",
    "        self.idx = -1\n",
    "        self.keywords = []\n",
    "    \n",
    "    def scrape(self):\n",
    "        print('Fetching:', url)\n",
    "        headers = {'user-agent': 'Mozilla/5.0 (Macintosh; Intel Mac OS X 10_11_6) AppleWebKit/537.36 (KHTML, like Gecko) Chrome/53.0.2785.143 Safari/537.36'}\n",
    "        page = requests.get(url, \n",
    "                            headers=headers,\n",
    "                            timeout=5)\n",
    "        # Deal with weird characters.\n",
    "        page.encoding = page.apparent_encoding\n",
    "        if page.status_code != 200:\n",
    "            raise Exception(\"unable to fetch page\")\n",
    "        print('[Status]:', page.status_code)\n",
    "        self.soup = BeautifulSoup(page.text, 'html.parser')\n",
    "        self.clear_elements()\n",
    "\n",
    "        \n",
    "    def clear_elements(self):\n",
    "        \"\"\"Clear HTML elements that are not providing value, e.g. header, footer, code, pre...\"\"\"\n",
    "        htmltags = ['header', 'footer', 'nav', 'code', 'pre', 'script', 'style', 'head']\n",
    "        for tag in htmltags:\n",
    "            htmlelement = self.soup.find_all(tag)\n",
    "            for el in htmlelement:\n",
    "                el.decompose()\n",
    "    \n",
    "    def inspect_tokens(self, n=10):\n",
    "        text = self.soup.get_text()\n",
    "        tokens = [word for sent in nltk.sent_tokenize(text.lower()) \n",
    "                  for word in nltk.word_tokenize(sent)]\n",
    "        tokens = [token for token in tokens if token not in STOPWORDS and len(token) > 1 and token.isalnum()]\n",
    "        tokens = Counter(tokens)\n",
    "        return tokens.most_common(n)\n",
    "\n",
    "    def prepare_sentences(self, min_word=3):\n",
    "        text = ' '.join(annotator.soup.findAll(text=True))\n",
    "        sentences = nltk.sent_tokenize(clear_newlines_and_whitespaces(text))\n",
    "        self.sentences = [sentence for sentence in sentences if len(sentence.split(' ')) > min_word]\n",
    "        self.keywords = list(dict(self.inspect_tokens()).keys())\n",
    "        self.result = [None] * len(self.sentences)\n",
    "    \n",
    "    def accept(self):\n",
    "        if self.idx >= len(self.sentences) - 1:\n",
    "            return\n",
    "        self.idx += 1\n",
    "\n",
    "    def undo(self):\n",
    "        if self.idx <= 0:\n",
    "            return\n",
    "        self.idx -= 1\n",
    "    \n",
    "    def reset(self):\n",
    "        self.idx = -1\n",
    "        self.result = [None] * len(self.sentences)\n",
    "\n",
    "    def build_regexp(self):\n",
    "        # Sort regex from longest to shortest - this will match \"golang\" first, then \"go\" instead of the opposite.\n",
    "        longest_to_shortest_keywords = sorted(self.keywords, \n",
    "                                              key=len, \n",
    "                                              reverse=True)\n",
    "\n",
    "        # Set boundary matching for keyword, so that \"go\" won't match \"going\"\n",
    "        def escape_all(s):\n",
    "            # Word boundary only applies for character, so non-character like c++ will not match.\n",
    "            if s.isalpha():\n",
    "                return r'\\b{}\\b'.format(re.escape(s))\n",
    "            return r'{}'.format(re.escape(s))\n",
    "\n",
    "        keywords_to_match = '|'.join(map(escape_all, longest_to_shortest_keywords))\n",
    "        pattern = r'{}'.format(keywords_to_match)\n",
    "        return partial(re.finditer, pattern, flags=re.IGNORECASE|re.MULTILINE|re.UNICODE)\n",
    "\n",
    "    def preprocess(self, sentence):\n",
    "        regexp = self.build_regexp()\n",
    "        annotations: List[Annotation] = []\n",
    "\n",
    "        for m in regexp(sentence):\n",
    "            s, e = m.span()\n",
    "            annotations.append(Annotation(sentence[s:e], self.label, s, e))\n",
    "\n",
    "        self.result[self.idx] = Sentence(sentence, annotations)\n",
    "\n",
    "    def update_keywords(self, new_kw):\n",
    "        tags = new_kw.split(',')\n",
    "        tags = map(lambda s: s.strip(), tags)\n",
    "        tags = filter(lambda s: len(s) > 0, tags)\n",
    "        tags = list(set(list(tags)))\n",
    "        if len(tags) == 0: return\n",
    "        self.keywords = tags\n",
    "    \n",
    "    def current_result(self):\n",
    "        return self.result[self.idx]\n",
    "    \n",
    "    def current_sentence(self):\n",
    "        return self.sentences[self.idx]\n",
    "    \n",
    "    def save(self):\n",
    "        data_to_db = [asdict(item) for item in self.result if item is not None]\n",
    "        with dbopen() as c:\n",
    "            url = self.url\n",
    "            text = self.soup.get_text()\n",
    "            data = json.dumps(data_to_db)\n",
    "            payload = (url, text, data, text, data)\n",
    "            c.execute('INSERT INTO skill (url, text, data) VALUES (?, ?, ?) ON CONFLICT (url) DO UPDATE SET text = ?, data = ?', \n",
    "                      payload)\n",
    "            print(c.execute('SELECT id, url FROM skill').fetchall())"
   ]
  },
  {
   "cell_type": "code",
   "execution_count": 133,
   "metadata": {},
   "outputs": [],
   "source": [
    "url = 'https://appinventiv.com/blog/go-vs-rust/'"
   ]
  },
  {
   "cell_type": "code",
   "execution_count": 134,
   "metadata": {},
   "outputs": [],
   "source": [
    "annotator = Annotator(url, 'SKILL')"
   ]
  },
  {
   "cell_type": "code",
   "execution_count": 135,
   "metadata": {},
   "outputs": [
    {
     "name": "stdout",
     "output_type": "stream",
     "text": [
      "Fetching: https://appinventiv.com/blog/go-vs-rust/\n",
      "[Status]: 200\n"
     ]
    }
   ],
   "source": [
    "annotator.scrape()"
   ]
  },
  {
   "cell_type": "code",
   "execution_count": 136,
   "metadata": {},
   "outputs": [
    {
     "data": {
      "text/plain": [
       "[('go', 44),\n",
       " ('rust', 43),\n",
       " ('language', 17),\n",
       " ('vs', 16),\n",
       " ('languages', 11),\n",
       " ('speed', 10),\n",
       " ('development', 9),\n",
       " ('better', 8),\n",
       " ('would', 8),\n",
       " ('performance', 8)]"
      ]
     },
     "execution_count": 136,
     "metadata": {},
     "output_type": "execute_result"
    }
   ],
   "source": [
    "annotator.inspect_tokens()"
   ]
  },
  {
   "cell_type": "code",
   "execution_count": 137,
   "metadata": {},
   "outputs": [],
   "source": [
    "annotator.prepare_sentences()"
   ]
  },
  {
   "cell_type": "code",
   "execution_count": 138,
   "metadata": {},
   "outputs": [],
   "source": [
    "def clear_newlines_and_whitespaces(s):\n",
    "    return re.sub(r'\\s+', ' ', s).strip()"
   ]
  },
  {
   "cell_type": "code",
   "execution_count": 139,
   "metadata": {},
   "outputs": [
    {
     "data": {
      "application/vnd.jupyter.widget-view+json": {
       "model_id": "5462581fb5084fa5a22d9d386aa40ebc",
       "version_major": 2,
       "version_minor": 0
      },
      "text/plain": [
       "interactive(children=(Text(value='go,rust,language,vs,languages,speed,development,better,would,performance', d…"
      ]
     },
     "metadata": {},
     "output_type": "display_data"
    },
    {
     "data": {
      "application/vnd.jupyter.widget-view+json": {
       "model_id": "7574fe8d351542f3b367e1aa444e7dba",
       "version_major": 2,
       "version_minor": 0
      },
      "text/plain": [
       "HBox(children=(Button(description='Prev', style=ButtonStyle()), Button(description='Next', style=ButtonStyle()…"
      ]
     },
     "metadata": {},
     "output_type": "display_data"
    },
    {
     "data": {
      "application/vnd.jupyter.widget-view+json": {
       "model_id": "2742bde7342d48baae4c0125f58d50f7",
       "version_major": 2,
       "version_minor": 0
      },
      "text/plain": [
       "HTML(value='', placeholder='Enter html')"
      ]
     },
     "metadata": {},
     "output_type": "display_data"
    }
   ],
   "source": [
    "button_prev = widgets.Button(description=\"Prev\")\n",
    "button_next = widgets.Button(description=\"Next\")\n",
    "button_reset = widgets.Button(description='Reset')\n",
    "\n",
    "hbox = HBox([button_prev, button_next, button_reset])\n",
    "\n",
    "def handle_prev(e):\n",
    "    annotator.undo()\n",
    "    render()\n",
    "\n",
    "def handle_next(e):\n",
    "    annotator.accept()\n",
    "    render()\n",
    "\n",
    "def handle_reset(e):\n",
    "    annotator.reset()\n",
    "    render()\n",
    "\n",
    "button_prev.on_click(handle_prev)\n",
    "button_next.on_click(handle_next)\n",
    "button_reset.on_click(handle_reset)\n",
    "\n",
    "html = widgets.HTML(value='', placeholder='Enter html', description='')\n",
    "input_keyword = widgets.Text(value=','.join(annotator.keywords),\n",
    "                             description='Keywords')\n",
    "\n",
    "@debounce(0.25)\n",
    "def update_keyword(new_kw):\n",
    "    annotator.update_keywords(new_kw)\n",
    "    render()\n",
    "    \n",
    "interact(update_keyword, new_kw=input_keyword)\n",
    "\n",
    "display(hbox,\n",
    "        html)\n",
    "\n",
    "def render():\n",
    "    idx = annotator.idx\n",
    "    sentence = annotator.current_sentence()\n",
    "    sentences = annotator.sentences\n",
    "    if idx < 0:\n",
    "        html.value = \"Press next to start\"\n",
    "        return\n",
    "    if idx >= len(sentences) - 1:\n",
    "        html.value = 'Completed'\n",
    "        return\n",
    "\n",
    "    display(sentence, idx)\n",
    "    annotator.preprocess(sentence)\n",
    "    \n",
    "    annotations = annotator.current_result().annotations\n",
    "    for annotation in annotations:\n",
    "        # Boundaries only applies for char, so if the word has non-char, like c++, it will fail.\n",
    "        pattern = r'\\b{}\\b'.format(re.escape(annotation.entity)) if annotation.entity.isalpha() else r'{}'.format(re.escape(annotation.entity))\n",
    "        sentence = re.sub(pattern,\n",
    "                          f'<b style=\"background: #FFFBCC\">{annotation.entity}</b>', \n",
    "                          sentence, flags=re.IGNORECASE|re.MULTILINE|re.UNICODE)\n",
    "    \n",
    "    html.value = f\"Total: {len(sentences)}, Current: {idx+1}\"\n",
    "    html.value += '<br/>'\n",
    "    html.value += f'{idx+1}. {sentence}'\n",
    "    html.value += '<br/>'"
   ]
  },
  {
   "cell_type": "code",
   "execution_count": 140,
   "metadata": {},
   "outputs": [
    {
     "name": "stdout",
     "output_type": "stream",
     "text": [
      "[(9, 'https://appinventiv.com/blog/go-vs-rust/'), (3, 'https://buttercms.com/blog/vue-vs-react-which-is-the-better-framework'), (8, 'https://hackr.io/blog/kotlin-vs-java'), (4, 'https://www.edureka.co/blog/what-is-scala/'), (1, 'https://www.fullstackacademy.com/blog/nine-best-programming-languages-to-learn'), (2, 'https://www.ignite.digital/10-best-programming-languages-to-learn-in-2020/'), (6, 'https://www.sam-solutions.com/blog/top-10-programming-languages-and-their-use-cases/')]\n"
     ]
    }
   ],
   "source": [
    "annotator.save()"
   ]
  },
  {
   "cell_type": "code",
   "execution_count": 141,
   "metadata": {},
   "outputs": [
    {
     "name": "stdout",
     "output_type": "stream",
     "text": [
      "id: 1\n",
      "url: https://www.fullstackacademy.com/blog/nine-best-programming-languages-to-learn\n",
      "data: [{\"text\": \"The 9 Best Programming Languages to Learn in 2020 | Fullstack Academy Programs New York \n",
      "\n",
      "id: 2\n",
      "url: https://www.ignite.digital/10-best-programming-languages-to-learn-in-2020/\n",
      "data: [{\"text\": \"10 Best programming languages to learn in 2020 - Ignite Digital Talent Skip to content J\n",
      "\n",
      "id: 3\n",
      "url: https://buttercms.com/blog/vue-vs-react-which-is-the-better-framework\n",
      "data: [{\"text\": \"Vue vs React: Which is the better framework?\", \"annotations\": [{\"entity\": \"Vue\", \"label\"\n",
      "\n",
      "id: 4\n",
      "url: https://www.edureka.co/blog/what-is-scala/\n",
      "data: [{\"text\": \"What is Scala?\", \"annotations\": [{\"entity\": \"Scala\", \"label\": \"SKILL\", \"start\": 8, \"end\"\n",
      "\n",
      "id: 6\n",
      "url: https://www.sam-solutions.com/blog/top-10-programming-languages-and-their-use-cases/\n",
      "data: [{\"text\": \"Most Popular Programming Languages 2020 [And Key Use Cases] | SaM Solutions\", \"annotatio\n",
      "\n",
      "id: 8\n",
      "url: https://hackr.io/blog/kotlin-vs-java\n",
      "data: [{\"text\": \"html CM_HIO_BTF_ERSB CM_HIO_BTF_ERSB Java and Kotlin Java Tutorials Related Tutorials Ja\n",
      "\n",
      "id: 9\n",
      "url: https://appinventiv.com/blog/go-vs-rust/\n",
      "data: [{\"text\": \"html Google Tag Manager (noscript) End Google Tag Manager (noscript) Header starts here \n",
      "\n"
     ]
    }
   ],
   "source": [
    "with dbopen() as c:\n",
    "    result = c.execute('select id, url, substr(data, 0, 100) from skill').fetchall()\n",
    "    for id, url, data in result:\n",
    "        print('id:', id)\n",
    "        print('url:', url)\n",
    "        print('data:', data)\n",
    "        print()"
   ]
  },
  {
   "cell_type": "code",
   "execution_count": null,
   "metadata": {},
   "outputs": [],
   "source": []
  }
 ],
 "metadata": {
  "kernelspec": {
   "display_name": "Python 3",
   "language": "python",
   "name": "python3"
  },
  "language_info": {
   "codemirror_mode": {
    "name": "ipython",
    "version": 3
   },
   "file_extension": ".py",
   "mimetype": "text/x-python",
   "name": "python",
   "nbconvert_exporter": "python",
   "pygments_lexer": "ipython3",
   "version": "3.8.5"
  }
 },
 "nbformat": 4,
 "nbformat_minor": 4
}
